{
 "cells": [
  {
   "cell_type": "code",
   "execution_count": null,
   "id": "fbf68409",
   "metadata": {},
   "outputs": [],
   "source": [
    "# Import the libraries required for the script\n",
    "import pandas as pd\n",
    "import csv\n",
    "import zipfile\n",
    "import os"
   ]
  },
  {
   "cell_type": "code",
   "execution_count": null,
   "id": "9a97b3c0",
   "metadata": {},
   "outputs": [],
   "source": [
    "# Load the provided salary data from a CSV file\n",
    "# added low_memory=False to avoid DtypeWarning\n",
    "try:\n",
    "    salary_data = pd.read_csv('salary_data.csv',low_memory=False)\n",
    "except FileNotFoundError:\n",
    "    print(\"Error: salary_data.csv file not found.\")"
   ]
  },
  {
   "cell_type": "code",
   "execution_count": null,
   "id": "944bd684",
   "metadata": {},
   "outputs": [],
   "source": [
    "def get_employee_details(names):\n",
    "    \"\"\"\n",
    "    This function takes employee names and returns their details.\n",
    "    If an employee is not found, it includes a message indicating so.\n",
    "    \"\"\"\n",
    "    try:\n",
    "        employee_details_list = []\n",
    "\n",
    "        for name in names:\n",
    "            if name in salary_data['EmployeeName'].values:\n",
    "                # Get the matching record for the employee\n",
    "                employee_info = salary_data[salary_data['EmployeeName'] == name].iloc[0]\n",
    "                employee_details = {\n",
    "                    'Name': name,\n",
    "                    'JobTitle': employee_info['JobTitle'],\n",
    "                    'Year': employee_info['Year'],\n",
    "                    'BasePay': employee_info['BasePay'],\n",
    "                    'Benefits': employee_info['Benefits'],\n",
    "                    'OvertimePay': employee_info['OvertimePay'],\n",
    "                    'OtherPay': employee_info['OtherPay'],\n",
    "                    'TotalPay': employee_info['TotalPay'],\n",
    "                    'TotalPayBenefits': employee_info['TotalPayBenefits'],\n",
    "                }\n",
    "                employee_details_list.append(employee_details)\n",
    "            else:\n",
    "                # If the employee is not found, inform the user and continue processing\n",
    "                print(f\"*** Employee {name} not found.***\")\n",
    "                continue\n",
    "\n",
    "        return employee_details_list\n",
    "    except Exception as e:\n",
    "        print(f\"An error occurred: {e}\")\n",
    "        return []"
   ]
  },
  {
   "cell_type": "code",
   "execution_count": null,
   "id": "6a937a18",
   "metadata": {},
   "outputs": [],
   "source": [
    "def export_employee_details_to_zip(employee_details, folder_name=\"Employee Profile\", file_name=\"employee_details.csv\"):\n",
    "    # Convert to DataFrame\n",
    "    df = pd.DataFrame(employee_details)\n",
    "\n",
    "    # Create folder if it doesn't exist\n",
    "    if not os.path.exists(folder_name):\n",
    "        os.makedirs(folder_name)\n",
    "\n",
    "    # Define file paths\n",
    "    csv_path = os.path.join(folder_name, file_name)\n",
    "    zip_path = os.path.join(\n",
    "        folder_name, f\"{folder_name.replace('.csv', '')}.zip\")\n",
    "\n",
    "    # Save to CSV\n",
    "    df.to_csv(csv_path, index=False)\n",
    "\n",
    "    # Zip the CSV file\n",
    "    with zipfile.ZipFile(zip_path, 'w', zipfile.ZIP_DEFLATED) as zipf:\n",
    "        zipf.write(csv_path, arcname=file_name)"
   ]
  },
  {
   "cell_type": "code",
   "execution_count": null,
   "id": "c689589c",
   "metadata": {},
   "outputs": [],
   "source": [
    "employee_details = get_employee_details([\"NATHANIEL FORD\", \"ALBERT PARDINI\",\"Esther Casely Hayford\"])\n",
    "export_employee_details_to_zip(employee_details)"
   ]
  }
 ],
 "metadata": {
  "kernelspec": {
   "display_name": ".venv",
   "language": "python",
   "name": "python3"
  },
  "language_info": {
   "codemirror_mode": {
    "name": "ipython",
    "version": 3
   },
   "file_extension": ".py",
   "mimetype": "text/x-python",
   "name": "python",
   "nbconvert_exporter": "python",
   "pygments_lexer": "ipython3",
   "version": "3.13.3"
  }
 },
 "nbformat": 4,
 "nbformat_minor": 5
}
